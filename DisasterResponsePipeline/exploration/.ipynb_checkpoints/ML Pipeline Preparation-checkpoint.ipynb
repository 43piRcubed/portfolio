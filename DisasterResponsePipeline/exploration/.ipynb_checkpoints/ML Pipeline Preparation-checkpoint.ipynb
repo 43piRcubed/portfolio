{
 "cells": [
  {
   "cell_type": "markdown",
   "metadata": {},
   "source": [
    "# ML Pipeline Preparation\n",
    "Follow the instructions below to help you create your ML pipeline.\n",
    "### 1. Import libraries and load data from database.\n",
    "- Import Python libraries\n",
    "- Load dataset from database with [`read_sql_table`](https://pandas.pydata.org/pandas-docs/stable/generated/pandas.read_sql_table.html)\n",
    "- Define feature and target variables X and Y"
   ]
  },
  {
   "cell_type": "code",
   "execution_count": 12,
   "metadata": {},
   "outputs": [
    {
     "name": "stdout",
     "output_type": "stream",
     "text": [
      "[nltk_data] Downloading package punkt to /root/nltk_data...\n",
      "[nltk_data]   Package punkt is already up-to-date!\n",
      "[nltk_data] Downloading package wordnet to /root/nltk_data...\n",
      "[nltk_data]   Package wordnet is already up-to-date!\n",
      "[nltk_data] Downloading package stopwords to /root/nltk_data...\n",
      "[nltk_data]   Package stopwords is already up-to-date!\n"
     ]
    }
   ],
   "source": [
    "# import libraries\n",
    "import sys\n",
    "import pandas as pd\n",
    "import numpy as np\n",
    "import pickle\n",
    "import re\n",
    "import time\n",
    "import warnings\n",
    "\n",
    "from sqlalchemy import create_engine\n",
    "\n",
    "from sklearn.pipeline import Pipeline\n",
    "from sklearn.metrics import confusion_matrix\n",
    "from sklearn.metrics import classification_report\n",
    "from sklearn.model_selection import train_test_split, GridSearchCV\n",
    "\n",
    "from sklearn.ensemble import RandomForestClassifier\n",
    "from sklearn.multiclass import OneVsRestClassifier\n",
    "from sklearn.multioutput import MultiOutputClassifier\n",
    "from sklearn.svm import LinearSVC\n",
    "\n",
    "from sklearn.feature_extraction.text import CountVectorizer, TfidfTransformer\n",
    "\n",
    "import nltk\n",
    "from nltk.corpus import stopwords\n",
    "from nltk.stem import WordNetLemmatizer\n",
    "from nltk.tokenize import word_tokenize\n",
    "\n",
    "nltk.download(['punkt', 'wordnet', 'stopwords'])\n",
    "warnings.filterwarnings('ignore')"
   ]
  },
  {
   "cell_type": "code",
   "execution_count": 13,
   "metadata": {
    "scrolled": true
   },
   "outputs": [],
   "source": [
    "# load data from database\n",
    "engine = create_engine('sqlite:///InsertDatabaseName.db')\n",
    "query = \"SELECT * FROM InsertTableName;\"\n",
    "df = pd.read_sql(query, con=engine)\n",
    "X = df['message']\n",
    "Y = df.iloc[:,4:]\n",
    "category_names = Y.columns\n",
    "\n",
    "# cleaning values of 'related' category column mapping values:\n",
    "#     0 to 0  no change\n",
    "#     1 to 1  no change\n",
    "#     2 to 1  remapping\n",
    "Y['related']=Y['related'].map(lambda x: 1 if x == 2 else x)\n"
   ]
  },
  {
   "cell_type": "markdown",
   "metadata": {},
   "source": [
    "### 2. Write a tokenization function to process your text data"
   ]
  },
  {
   "cell_type": "code",
   "execution_count": 14,
   "metadata": {},
   "outputs": [],
   "source": [
    "def tokenize(text):\n",
    "    \n",
    "    # convert all text to lower case\n",
    "    # removing punctuation\n",
    "    text = re.sub(r\"[^a-zA-Z0-9]\", \" \", text.lower())\n",
    "    \n",
    "    # tokenize words\n",
    "    words = word_tokenize(text)\n",
    "    \n",
    "    # remove stop words\n",
    "    words = [w for w in words if w not in stopwords.words(\"english\")]\n",
    "    \n",
    "    lemm = WordNetLemmatizer()\n",
    "    \n",
    "    # Reduce words to their root form\n",
    "    lemmed = [lemm.lemmatize(w.strip()) for w in words]\n",
    "    \n",
    "    # Lemmatize verbs by specifying pos\n",
    "    lemmed = [lemm.lemmatize(w.strip(), pos='v') for w in lemmed]\n",
    "    \n",
    "    return lemmed"
   ]
  },
  {
   "cell_type": "code",
   "execution_count": 15,
   "metadata": {
    "scrolled": false
   },
   "outputs": [
    {
     "name": "stdout",
     "output_type": "stream",
     "text": [
      "Weather update - a cold front from Cuba that could pass over Haiti\n",
      "['weather', 'update', 'cold', 'front', 'cuba', 'could', 'pas', 'haiti'] \n",
      "\n",
      "Is the Hurricane over or is it not over\n",
      "['hurricane'] \n",
      "\n",
      "Looking for someone but no name\n",
      "['look', 'someone', 'name'] \n",
      "\n",
      "UN reports Leogane 80-90 destroyed. Only Hospital St. Croix functioning. Needs supplies desperately.\n",
      "['un', 'report', 'leogane', '80', '90', 'destroy', 'hospital', 'st', 'croix', 'function', 'need', 'supply', 'desperately'] \n",
      "\n",
      "says: west side of Haiti, rest of the country today and tonight\n",
      "['say', 'west', 'side', 'haiti', 'rest', 'country', 'today', 'tonight'] \n",
      "\n"
     ]
    }
   ],
   "source": [
    "for message in X[:5]:\n",
    "    tokens = tokenize(message)\n",
    "    print(message)\n",
    "    print(tokens, '\\n')"
   ]
  },
  {
   "cell_type": "markdown",
   "metadata": {},
   "source": [
    "### 3. Build a machine learning pipeline\n",
    "This machine pipeline should take in the `message` column as input and output classification results on the other 36 categories in the dataset. You may find the [MultiOutputClassifier](http://scikit-learn.org/stable/modules/generated/sklearn.multioutput.MultiOutputClassifier.html) helpful for predicting multiple target variables."
   ]
  },
  {
   "cell_type": "code",
   "execution_count": 16,
   "metadata": {},
   "outputs": [],
   "source": [
    "pipeline = Pipeline([\n",
    "                    ('vect', CountVectorizer(tokenizer=tokenize)),\n",
    "                    ('tfidf', TfidfTransformer()),\n",
    "                    ('clf', MultiOutputClassifier(\n",
    "                            OneVsRestClassifier(RandomForestClassifier())))\n",
    "                    ])\n"
   ]
  },
  {
   "cell_type": "markdown",
   "metadata": {},
   "source": [
    "### 4. Train pipeline\n",
    "- Split data into train and test sets\n",
    "- Train pipeline"
   ]
  },
  {
   "cell_type": "code",
   "execution_count": 17,
   "metadata": {},
   "outputs": [
    {
     "data": {
      "text/plain": [
       "Pipeline(memory=None,\n",
       "     steps=[('vect', CountVectorizer(analyzer='word', binary=False, decode_error='strict',\n",
       "        dtype=<class 'numpy.int64'>, encoding='utf-8', input='content',\n",
       "        lowercase=True, max_df=1.0, max_features=None, min_df=1,\n",
       "        ngram_range=(1, 1), preprocessor=None, stop_words=None,\n",
       "        strip...om_state=None, verbose=0,\n",
       "            warm_start=False),\n",
       "          n_jobs=1),\n",
       "           n_jobs=1))])"
      ]
     },
     "execution_count": 17,
     "metadata": {},
     "output_type": "execute_result"
    }
   ],
   "source": [
    "# Split data into training and test sets\n",
    "X_train, X_test, Y_train, Y_test = train_test_split(X, Y, test_size=0.2, random_state=51)\n",
    "\n",
    "# train classifier\n",
    "pipeline.fit(X_train, Y_train)"
   ]
  },
  {
   "cell_type": "markdown",
   "metadata": {},
   "source": [
    "### 5. Test your model\n",
    "Report the f1 score, precision and recall for each output category of the dataset. You can do this by iterating through the columns and calling sklearn's `classification_report` on each."
   ]
  },
  {
   "cell_type": "code",
   "execution_count": 18,
   "metadata": {},
   "outputs": [],
   "source": [
    "def display_results(Y_test, y_pred):\n",
    "    labels = np.unique(y_pred)\n",
    "    confusion_mat = confusion_matrix(Y_test, y_pred, labels=labels)\n",
    "    accuracy = (y_pred == Y_test).mean()\n",
    "\n",
    "    print(\"Labels:\", labels)\n",
    "    print(\"Confusion Matrix:\\n\", confusion_mat)\n",
    "    print(\"Accuracy:\", accuracy)\n"
   ]
  },
  {
   "cell_type": "code",
   "execution_count": 19,
   "metadata": {
    "scrolled": false
   },
   "outputs": [
    {
     "name": "stdout",
     "output_type": "stream",
     "text": [
      "                        precision    recall  f1-score   support\n",
      "\n",
      "               related       0.84      0.91      0.88      4006\n",
      "               request       0.83      0.43      0.57       900\n",
      "                 offer       0.00      0.00      0.00        23\n",
      "           aid_related       0.74      0.61      0.67      2170\n",
      "          medical_help       0.67      0.10      0.17       433\n",
      "      medical_products       0.77      0.08      0.15       277\n",
      "     search_and_rescue       0.56      0.10      0.17       139\n",
      "              security       0.50      0.01      0.02       106\n",
      "              military       0.81      0.10      0.18       171\n",
      "           child_alone       0.00      0.00      0.00         0\n",
      "                 water       0.88      0.34      0.49       346\n",
      "                  food       0.82      0.36      0.50       603\n",
      "               shelter       0.82      0.31      0.45       443\n",
      "              clothing       0.91      0.10      0.18        99\n",
      "                 money       0.67      0.02      0.04       103\n",
      "        missing_people       1.00      0.02      0.03        62\n",
      "              refugees       0.55      0.04      0.07       150\n",
      "                 death       0.90      0.14      0.24       263\n",
      "             other_aid       0.53      0.03      0.06       696\n",
      "infrastructure_related       0.00      0.00      0.00       342\n",
      "             transport       0.55      0.04      0.08       245\n",
      "             buildings       0.63      0.11      0.18       257\n",
      "           electricity       0.82      0.08      0.14       118\n",
      "                 tools       0.00      0.00      0.00        27\n",
      "             hospitals       0.00      0.00      0.00        60\n",
      "                 shops       0.00      0.00      0.00        26\n",
      "           aid_centers       0.00      0.00      0.00        62\n",
      "  other_infrastructure       0.00      0.00      0.00       226\n",
      "       weather_related       0.84      0.62      0.72      1465\n",
      "                floods       0.87      0.39      0.54       459\n",
      "                 storm       0.71      0.44      0.54       476\n",
      "                  fire       1.00      0.09      0.17        55\n",
      "            earthquake       0.87      0.78      0.83       493\n",
      "                  cold       0.71      0.15      0.24       103\n",
      "         other_weather       0.62      0.05      0.10       275\n",
      "         direct_report       0.73      0.32      0.44      1045\n",
      "\n",
      "           avg / total       0.74      0.49      0.54     16724\n",
      "\n",
      "Accuracy: 0.9442587641117053\n"
     ]
    }
   ],
   "source": [
    "# predict on test data\n",
    "y_pred = pipeline.predict(X_test)\n",
    "\n",
    "# display results\n",
    "# print classification report\n",
    "print(classification_report(Y_test.values, y_pred, target_names=category_names))\n",
    "\n",
    "#print accuracy score\n",
    "print('Accuracy: {}'.format(np.mean(Y_test.values == y_pred)))\n",
    "#display_results(Y_test, y_pred)\n"
   ]
  },
  {
   "cell_type": "markdown",
   "metadata": {},
   "source": [
    "### 6. Improve your model\n",
    "Use grid search to find better parameters. "
   ]
  },
  {
   "cell_type": "code",
   "execution_count": 20,
   "metadata": {},
   "outputs": [
    {
     "name": "stdout",
     "output_type": "stream",
     "text": [
      "memory  :  None\n",
      "steps  :  [('vect', CountVectorizer(analyzer='word', binary=False, decode_error='strict',\n",
      "        dtype=<class 'numpy.int64'>, encoding='utf-8', input='content',\n",
      "        lowercase=True, max_df=1.0, max_features=None, min_df=1,\n",
      "        ngram_range=(1, 1), preprocessor=None, stop_words=None,\n",
      "        strip_accents=None, token_pattern='(?u)\\\\b\\\\w\\\\w+\\\\b',\n",
      "        tokenizer=<function tokenize at 0x7f148504f488>, vocabulary=None)), ('tfidf', TfidfTransformer(norm='l2', smooth_idf=True, sublinear_tf=False, use_idf=True)), ('clf', MultiOutputClassifier(estimator=OneVsRestClassifier(estimator=RandomForestClassifier(bootstrap=True, class_weight=None, criterion='gini',\n",
      "            max_depth=None, max_features='auto', max_leaf_nodes=None,\n",
      "            min_impurity_decrease=0.0, min_impurity_split=None,\n",
      "            min_samples_leaf=1, min_samples_split=2,\n",
      "            min_weight_fraction_leaf=0.0, n_estimators=10, n_jobs=1,\n",
      "            oob_score=False, random_state=None, verbose=0,\n",
      "            warm_start=False),\n",
      "          n_jobs=1),\n",
      "           n_jobs=1))]\n",
      "vect  :  CountVectorizer(analyzer='word', binary=False, decode_error='strict',\n",
      "        dtype=<class 'numpy.int64'>, encoding='utf-8', input='content',\n",
      "        lowercase=True, max_df=1.0, max_features=None, min_df=1,\n",
      "        ngram_range=(1, 1), preprocessor=None, stop_words=None,\n",
      "        strip_accents=None, token_pattern='(?u)\\\\b\\\\w\\\\w+\\\\b',\n",
      "        tokenizer=<function tokenize at 0x7f148504f488>, vocabulary=None)\n",
      "tfidf  :  TfidfTransformer(norm='l2', smooth_idf=True, sublinear_tf=False, use_idf=True)\n",
      "clf  :  MultiOutputClassifier(estimator=OneVsRestClassifier(estimator=RandomForestClassifier(bootstrap=True, class_weight=None, criterion='gini',\n",
      "            max_depth=None, max_features='auto', max_leaf_nodes=None,\n",
      "            min_impurity_decrease=0.0, min_impurity_split=None,\n",
      "            min_samples_leaf=1, min_samples_split=2,\n",
      "            min_weight_fraction_leaf=0.0, n_estimators=10, n_jobs=1,\n",
      "            oob_score=False, random_state=None, verbose=0,\n",
      "            warm_start=False),\n",
      "          n_jobs=1),\n",
      "           n_jobs=1)\n",
      "vect__analyzer  :  word\n",
      "vect__binary  :  False\n",
      "vect__decode_error  :  strict\n",
      "vect__dtype  :  <class 'numpy.int64'>\n",
      "vect__encoding  :  utf-8\n",
      "vect__input  :  content\n",
      "vect__lowercase  :  True\n",
      "vect__max_df  :  1.0\n",
      "vect__max_features  :  None\n",
      "vect__min_df  :  1\n",
      "vect__ngram_range  :  (1, 1)\n",
      "vect__preprocessor  :  None\n",
      "vect__stop_words  :  None\n",
      "vect__strip_accents  :  None\n",
      "vect__token_pattern  :  (?u)\\b\\w\\w+\\b\n",
      "vect__tokenizer  :  <function tokenize at 0x7f148504f488>\n",
      "vect__vocabulary  :  None\n",
      "tfidf__norm  :  l2\n",
      "tfidf__smooth_idf  :  True\n",
      "tfidf__sublinear_tf  :  False\n",
      "tfidf__use_idf  :  True\n",
      "clf__estimator__estimator__bootstrap  :  True\n",
      "clf__estimator__estimator__class_weight  :  None\n",
      "clf__estimator__estimator__criterion  :  gini\n",
      "clf__estimator__estimator__max_depth  :  None\n",
      "clf__estimator__estimator__max_features  :  auto\n",
      "clf__estimator__estimator__max_leaf_nodes  :  None\n",
      "clf__estimator__estimator__min_impurity_decrease  :  0.0\n",
      "clf__estimator__estimator__min_impurity_split  :  None\n",
      "clf__estimator__estimator__min_samples_leaf  :  1\n",
      "clf__estimator__estimator__min_samples_split  :  2\n",
      "clf__estimator__estimator__min_weight_fraction_leaf  :  0.0\n",
      "clf__estimator__estimator__n_estimators  :  10\n",
      "clf__estimator__estimator__n_jobs  :  1\n",
      "clf__estimator__estimator__oob_score  :  False\n",
      "clf__estimator__estimator__random_state  :  None\n",
      "clf__estimator__estimator__verbose  :  0\n",
      "clf__estimator__estimator__warm_start  :  False\n",
      "clf__estimator__estimator  :  RandomForestClassifier(bootstrap=True, class_weight=None, criterion='gini',\n",
      "            max_depth=None, max_features='auto', max_leaf_nodes=None,\n",
      "            min_impurity_decrease=0.0, min_impurity_split=None,\n",
      "            min_samples_leaf=1, min_samples_split=2,\n",
      "            min_weight_fraction_leaf=0.0, n_estimators=10, n_jobs=1,\n",
      "            oob_score=False, random_state=None, verbose=0,\n",
      "            warm_start=False)\n",
      "clf__estimator__n_jobs  :  1\n",
      "clf__estimator  :  OneVsRestClassifier(estimator=RandomForestClassifier(bootstrap=True, class_weight=None, criterion='gini',\n",
      "            max_depth=None, max_features='auto', max_leaf_nodes=None,\n",
      "            min_impurity_decrease=0.0, min_impurity_split=None,\n",
      "            min_samples_leaf=1, min_samples_split=2,\n",
      "            min_weight_fraction_leaf=0.0, n_estimators=10, n_jobs=1,\n",
      "            oob_score=False, random_state=None, verbose=0,\n",
      "            warm_start=False),\n",
      "          n_jobs=1)\n",
      "clf__n_jobs  :  1\n"
     ]
    }
   ],
   "source": [
    "parameters = pipeline.get_params()\n",
    "\n",
    "for item in parameters:\n",
    "    print(\"{}  :  {}\".format(item, parameters[item]))\n",
    "\n",
    "parameters = {\n",
    "              'vect__max_df': (0.75, 1.0),\n",
    "              #'vect__min_df': (0.5, 0.75, 1.0),\n",
    "              'tfidf__smooth_idf': (True, False),\n",
    "              'clf__estimator__estimator__max_features': ('auto', 'sqrt')\n",
    "             }\n",
    "\n",
    "cv_model = GridSearchCV(estimator = pipeline,\n",
    "                 param_grid = parameters,\n",
    "                 verbose = 3,\n",
    "                 cv = 3)"
   ]
  },
  {
   "cell_type": "markdown",
   "metadata": {},
   "source": [
    "### 7. Test your model\n",
    "Show the accuracy, precision, and recall of the tuned model.  \n",
    "\n",
    "Since this project focuses on code quality, process, and  pipelines, there is no minimum performance metric needed to pass. However, make sure to fine tune your models for accuracy, precision and recall to make your project stand out - especially for your portfolio!"
   ]
  },
  {
   "cell_type": "code",
   "execution_count": 21,
   "metadata": {
    "scrolled": false
   },
   "outputs": [
    {
     "name": "stdout",
     "output_type": "stream",
     "text": [
      "Fitting 3 folds for each of 8 candidates, totalling 24 fits\n",
      "[CV] clf__estimator__estimator__max_features=auto, tfidf__smooth_idf=True, vect__max_df=0.75 \n",
      "[CV]  clf__estimator__estimator__max_features=auto, tfidf__smooth_idf=True, vect__max_df=0.75, score=0.23965047987394356, total= 2.1min\n",
      "[CV] clf__estimator__estimator__max_features=auto, tfidf__smooth_idf=True, vect__max_df=0.75 \n"
     ]
    },
    {
     "name": "stderr",
     "output_type": "stream",
     "text": [
      "[Parallel(n_jobs=1)]: Done   1 out of   1 | elapsed:  3.2min remaining:    0.0s\n"
     ]
    },
    {
     "name": "stdout",
     "output_type": "stream",
     "text": [
      "[CV]  clf__estimator__estimator__max_features=auto, tfidf__smooth_idf=True, vect__max_df=0.75, score=0.24441260744985674, total= 2.1min\n",
      "[CV] clf__estimator__estimator__max_features=auto, tfidf__smooth_idf=True, vect__max_df=0.75 \n"
     ]
    },
    {
     "name": "stderr",
     "output_type": "stream",
     "text": [
      "[Parallel(n_jobs=1)]: Done   2 out of   2 | elapsed:  6.4min remaining:    0.0s\n"
     ]
    },
    {
     "name": "stdout",
     "output_type": "stream",
     "text": [
      "[CV]  clf__estimator__estimator__max_features=auto, tfidf__smooth_idf=True, vect__max_df=0.75, score=0.24484240687679082, total= 2.1min\n",
      "[CV] clf__estimator__estimator__max_features=auto, tfidf__smooth_idf=True, vect__max_df=1.0 \n",
      "[CV]  clf__estimator__estimator__max_features=auto, tfidf__smooth_idf=True, vect__max_df=1.0, score=0.2505371723248818, total= 2.1min\n",
      "[CV] clf__estimator__estimator__max_features=auto, tfidf__smooth_idf=True, vect__max_df=1.0 \n",
      "[CV]  clf__estimator__estimator__max_features=auto, tfidf__smooth_idf=True, vect__max_df=1.0, score=0.24097421203438396, total= 2.1min\n",
      "[CV] clf__estimator__estimator__max_features=auto, tfidf__smooth_idf=True, vect__max_df=1.0 \n",
      "[CV]  clf__estimator__estimator__max_features=auto, tfidf__smooth_idf=True, vect__max_df=1.0, score=0.24398280802292263, total= 2.1min\n",
      "[CV] clf__estimator__estimator__max_features=auto, tfidf__smooth_idf=False, vect__max_df=0.75 \n",
      "[CV]  clf__estimator__estimator__max_features=auto, tfidf__smooth_idf=False, vect__max_df=0.75, score=0.24939120469846726, total= 2.1min\n",
      "[CV] clf__estimator__estimator__max_features=auto, tfidf__smooth_idf=False, vect__max_df=0.75 \n",
      "[CV]  clf__estimator__estimator__max_features=auto, tfidf__smooth_idf=False, vect__max_df=0.75, score=0.2491404011461318, total= 2.1min\n",
      "[CV] clf__estimator__estimator__max_features=auto, tfidf__smooth_idf=False, vect__max_df=0.75 \n",
      "[CV]  clf__estimator__estimator__max_features=auto, tfidf__smooth_idf=False, vect__max_df=0.75, score=0.24240687679083095, total= 2.1min\n",
      "[CV] clf__estimator__estimator__max_features=auto, tfidf__smooth_idf=False, vect__max_df=1.0 \n",
      "[CV]  clf__estimator__estimator__max_features=auto, tfidf__smooth_idf=False, vect__max_df=1.0, score=0.25354533734422, total= 2.1min\n",
      "[CV] clf__estimator__estimator__max_features=auto, tfidf__smooth_idf=False, vect__max_df=1.0 \n",
      "[CV]  clf__estimator__estimator__max_features=auto, tfidf__smooth_idf=False, vect__max_df=1.0, score=0.23997134670487105, total= 2.1min\n",
      "[CV] clf__estimator__estimator__max_features=auto, tfidf__smooth_idf=False, vect__max_df=1.0 \n",
      "[CV]  clf__estimator__estimator__max_features=auto, tfidf__smooth_idf=False, vect__max_df=1.0, score=0.23853868194842406, total= 2.2min\n",
      "[CV] clf__estimator__estimator__max_features=sqrt, tfidf__smooth_idf=True, vect__max_df=0.75 \n",
      "[CV]  clf__estimator__estimator__max_features=sqrt, tfidf__smooth_idf=True, vect__max_df=0.75, score=0.2445208422862054, total= 2.1min\n",
      "[CV] clf__estimator__estimator__max_features=sqrt, tfidf__smooth_idf=True, vect__max_df=0.75 \n",
      "[CV]  clf__estimator__estimator__max_features=sqrt, tfidf__smooth_idf=True, vect__max_df=0.75, score=0.24197707736389684, total= 2.1min\n",
      "[CV] clf__estimator__estimator__max_features=sqrt, tfidf__smooth_idf=True, vect__max_df=0.75 \n",
      "[CV]  clf__estimator__estimator__max_features=sqrt, tfidf__smooth_idf=True, vect__max_df=0.75, score=0.2508595988538682, total= 2.1min\n",
      "[CV] clf__estimator__estimator__max_features=sqrt, tfidf__smooth_idf=True, vect__max_df=1.0 \n",
      "[CV]  clf__estimator__estimator__max_features=sqrt, tfidf__smooth_idf=True, vect__max_df=1.0, score=0.24566680991261997, total= 2.1min\n",
      "[CV] clf__estimator__estimator__max_features=sqrt, tfidf__smooth_idf=True, vect__max_df=1.0 \n",
      "[CV]  clf__estimator__estimator__max_features=sqrt, tfidf__smooth_idf=True, vect__max_df=1.0, score=0.23982808022922636, total= 2.1min\n",
      "[CV] clf__estimator__estimator__max_features=sqrt, tfidf__smooth_idf=True, vect__max_df=1.0 \n",
      "[CV]  clf__estimator__estimator__max_features=sqrt, tfidf__smooth_idf=True, vect__max_df=1.0, score=0.24598853868194842, total= 2.1min\n",
      "[CV] clf__estimator__estimator__max_features=sqrt, tfidf__smooth_idf=False, vect__max_df=0.75 \n",
      "[CV]  clf__estimator__estimator__max_features=sqrt, tfidf__smooth_idf=False, vect__max_df=0.75, score=0.24466408823950722, total= 2.1min\n",
      "[CV] clf__estimator__estimator__max_features=sqrt, tfidf__smooth_idf=False, vect__max_df=0.75 \n",
      "[CV]  clf__estimator__estimator__max_features=sqrt, tfidf__smooth_idf=False, vect__max_df=0.75, score=0.24340974212034383, total= 2.1min\n",
      "[CV] clf__estimator__estimator__max_features=sqrt, tfidf__smooth_idf=False, vect__max_df=0.75 \n",
      "[CV]  clf__estimator__estimator__max_features=sqrt, tfidf__smooth_idf=False, vect__max_df=0.75, score=0.24083094555873927, total= 2.1min\n",
      "[CV] clf__estimator__estimator__max_features=sqrt, tfidf__smooth_idf=False, vect__max_df=1.0 \n",
      "[CV]  clf__estimator__estimator__max_features=sqrt, tfidf__smooth_idf=False, vect__max_df=1.0, score=0.2392207420140381, total= 2.2min\n",
      "[CV] clf__estimator__estimator__max_features=sqrt, tfidf__smooth_idf=False, vect__max_df=1.0 \n",
      "[CV]  clf__estimator__estimator__max_features=sqrt, tfidf__smooth_idf=False, vect__max_df=1.0, score=0.24770773638968482, total= 2.1min\n",
      "[CV] clf__estimator__estimator__max_features=sqrt, tfidf__smooth_idf=False, vect__max_df=1.0 \n",
      "[CV]  clf__estimator__estimator__max_features=sqrt, tfidf__smooth_idf=False, vect__max_df=1.0, score=0.24670487106017192, total= 2.2min\n"
     ]
    },
    {
     "name": "stderr",
     "output_type": "stream",
     "text": [
      "[Parallel(n_jobs=1)]: Done  24 out of  24 | elapsed: 77.1min finished\n"
     ]
    },
    {
     "name": "stdout",
     "output_type": "stream",
     "text": [
      "                        precision    recall  f1-score   support\n",
      "\n",
      "               related       0.84      0.92      0.88      4006\n",
      "               request       0.81      0.45      0.58       900\n",
      "                 offer       0.00      0.00      0.00        23\n",
      "           aid_related       0.74      0.59      0.66      2170\n",
      "          medical_help       0.68      0.11      0.19       433\n",
      "      medical_products       0.71      0.06      0.11       277\n",
      "     search_and_rescue       0.33      0.02      0.04       139\n",
      "              security       0.00      0.00      0.00       106\n",
      "              military       0.72      0.11      0.18       171\n",
      "           child_alone       0.00      0.00      0.00         0\n",
      "                 water       0.89      0.29      0.44       346\n",
      "                  food       0.83      0.40      0.54       603\n",
      "               shelter       0.78      0.34      0.47       443\n",
      "              clothing       0.85      0.17      0.29        99\n",
      "                 money       0.80      0.04      0.07       103\n",
      "        missing_people       0.00      0.00      0.00        62\n",
      "              refugees       0.52      0.07      0.13       150\n",
      "                 death       0.74      0.12      0.20       263\n",
      "             other_aid       0.50      0.04      0.08       696\n",
      "infrastructure_related       0.25      0.00      0.01       342\n",
      "             transport       0.55      0.05      0.09       245\n",
      "             buildings       0.53      0.07      0.12       257\n",
      "           electricity       0.67      0.02      0.03       118\n",
      "                 tools       0.00      0.00      0.00        27\n",
      "             hospitals       0.00      0.00      0.00        60\n",
      "                 shops       0.00      0.00      0.00        26\n",
      "           aid_centers       0.00      0.00      0.00        62\n",
      "  other_infrastructure       0.00      0.00      0.00       226\n",
      "       weather_related       0.84      0.65      0.73      1465\n",
      "                floods       0.89      0.33      0.48       459\n",
      "                 storm       0.76      0.46      0.58       476\n",
      "                  fire       0.50      0.05      0.10        55\n",
      "            earthquake       0.87      0.72      0.79       493\n",
      "                  cold       0.69      0.11      0.18       103\n",
      "         other_weather       0.50      0.05      0.10       275\n",
      "         direct_report       0.74      0.33      0.46      1045\n",
      "\n",
      "           avg / total       0.73      0.49      0.54     16724\n",
      "\n",
      "Accuracy: 0.944094304388422\n"
     ]
    }
   ],
   "source": [
    "cv_model.fit(X_train, Y_train)\n",
    "\n",
    "# predict on test data\n",
    "y_pred = cv_model.predict(X_test)\n",
    "\n",
    "# display results\n",
    "# print classification report\n",
    "print(classification_report(Y_test.values, y_pred, target_names=category_names))\n",
    "\n",
    "#print accuracy score\n",
    "print('Accuracy: {}'.format(np.mean(Y_test.values == y_pred)))\n",
    "#display_results(Y_test, y_pred)\n",
    "\n"
   ]
  },
  {
   "cell_type": "markdown",
   "metadata": {},
   "source": [
    "### 8. Try improving your model further. Here are a few ideas:\n",
    "* try other machine learning algorithms\n",
    "* add other features besides the TF-IDF"
   ]
  },
  {
   "cell_type": "code",
   "execution_count": 22,
   "metadata": {},
   "outputs": [
    {
     "name": "stdout",
     "output_type": "stream",
     "text": [
      "{'clf__estimator__estimator__max_features': 'auto', 'tfidf__smooth_idf': False, 'vect__max_df': 0.75}\n"
     ]
    }
   ],
   "source": [
    "print(cv_model.best_params_)"
   ]
  },
  {
   "cell_type": "code",
   "execution_count": 23,
   "metadata": {
    "scrolled": false
   },
   "outputs": [
    {
     "name": "stdout",
     "output_type": "stream",
     "text": [
      "                        precision    recall  f1-score   support\n",
      "\n",
      "               related       0.86      0.90      0.88      4006\n",
      "               request       0.76      0.59      0.66       900\n",
      "                 offer       0.00      0.00      0.00        23\n",
      "           aid_related       0.73      0.68      0.71      2170\n",
      "          medical_help       0.62      0.30      0.40       433\n",
      "      medical_products       0.68      0.34      0.45       277\n",
      "     search_and_rescue       0.48      0.11      0.18       139\n",
      "              security       0.40      0.02      0.04       106\n",
      "              military       0.68      0.28      0.40       171\n",
      "           child_alone       0.00      0.00      0.00         0\n",
      "                 water       0.77      0.61      0.68       346\n",
      "                  food       0.81      0.65      0.72       603\n",
      "               shelter       0.78      0.57      0.66       443\n",
      "              clothing       0.81      0.35      0.49        99\n",
      "                 money       0.51      0.24      0.33       103\n",
      "        missing_people       0.56      0.08      0.14        62\n",
      "              refugees       0.55      0.19      0.28       150\n",
      "                 death       0.69      0.47      0.56       263\n",
      "             other_aid       0.47      0.20      0.28       696\n",
      "infrastructure_related       0.35      0.08      0.14       342\n",
      "             transport       0.66      0.20      0.30       245\n",
      "             buildings       0.65      0.34      0.45       257\n",
      "           electricity       0.59      0.28      0.38       118\n",
      "                 tools       0.00      0.00      0.00        27\n",
      "             hospitals       0.29      0.03      0.06        60\n",
      "                 shops       0.00      0.00      0.00        26\n",
      "           aid_centers       0.17      0.02      0.03        62\n",
      "  other_infrastructure       0.31      0.04      0.08       226\n",
      "       weather_related       0.82      0.72      0.76      1465\n",
      "                floods       0.86      0.56      0.68       459\n",
      "                 storm       0.74      0.59      0.65       476\n",
      "                  fire       0.76      0.24      0.36        55\n",
      "            earthquake       0.88      0.78      0.83       493\n",
      "                  cold       0.71      0.33      0.45       103\n",
      "         other_weather       0.55      0.19      0.28       275\n",
      "         direct_report       0.67      0.49      0.57      1045\n",
      "\n",
      "           avg / total       0.73      0.59      0.64     16724\n",
      "\n",
      "Accuracy: 0.9485665478312537\n"
     ]
    }
   ],
   "source": [
    "pipeline_svc = Pipeline([\n",
    "                        ('vect', CountVectorizer(tokenizer=tokenize)),\n",
    "                        ('tfidf', TfidfTransformer()),\n",
    "                        ('clf', MultiOutputClassifier(\n",
    "                                OneVsRestClassifier(LinearSVC())))\n",
    "                        ])\n",
    "\n",
    "pipeline_svc.fit(X_train, Y_train)\n",
    "\n",
    "y_pred = pipeline_svc.predict(X_test)\n",
    "\n",
    "print(classification_report(Y_test.values, y_pred, target_names=category_names))\n",
    "\n",
    "print('Accuracy: {}'.format(np.mean(Y_test.values == y_pred)))"
   ]
  },
  {
   "cell_type": "code",
   "execution_count": 24,
   "metadata": {
    "scrolled": false
   },
   "outputs": [
    {
     "name": "stdout",
     "output_type": "stream",
     "text": [
      "memory  :  None\n",
      "steps  :  [('vect', CountVectorizer(analyzer='word', binary=False, decode_error='strict',\n",
      "        dtype=<class 'numpy.int64'>, encoding='utf-8', input='content',\n",
      "        lowercase=True, max_df=1.0, max_features=None, min_df=1,\n",
      "        ngram_range=(1, 1), preprocessor=None, stop_words=None,\n",
      "        strip_accents=None, token_pattern='(?u)\\\\b\\\\w\\\\w+\\\\b',\n",
      "        tokenizer=<function tokenize at 0x7f148504f488>, vocabulary=None)), ('tfidf', TfidfTransformer(norm='l2', smooth_idf=True, sublinear_tf=False, use_idf=True)), ('clf', MultiOutputClassifier(estimator=OneVsRestClassifier(estimator=LinearSVC(C=1.0, class_weight=None, dual=True, fit_intercept=True,\n",
      "     intercept_scaling=1, loss='squared_hinge', max_iter=1000,\n",
      "     multi_class='ovr', penalty='l2', random_state=None, tol=0.0001,\n",
      "     verbose=0),\n",
      "          n_jobs=1),\n",
      "           n_jobs=1))]\n",
      "vect  :  CountVectorizer(analyzer='word', binary=False, decode_error='strict',\n",
      "        dtype=<class 'numpy.int64'>, encoding='utf-8', input='content',\n",
      "        lowercase=True, max_df=1.0, max_features=None, min_df=1,\n",
      "        ngram_range=(1, 1), preprocessor=None, stop_words=None,\n",
      "        strip_accents=None, token_pattern='(?u)\\\\b\\\\w\\\\w+\\\\b',\n",
      "        tokenizer=<function tokenize at 0x7f148504f488>, vocabulary=None)\n",
      "tfidf  :  TfidfTransformer(norm='l2', smooth_idf=True, sublinear_tf=False, use_idf=True)\n",
      "clf  :  MultiOutputClassifier(estimator=OneVsRestClassifier(estimator=LinearSVC(C=1.0, class_weight=None, dual=True, fit_intercept=True,\n",
      "     intercept_scaling=1, loss='squared_hinge', max_iter=1000,\n",
      "     multi_class='ovr', penalty='l2', random_state=None, tol=0.0001,\n",
      "     verbose=0),\n",
      "          n_jobs=1),\n",
      "           n_jobs=1)\n",
      "vect__analyzer  :  word\n",
      "vect__binary  :  False\n",
      "vect__decode_error  :  strict\n",
      "vect__dtype  :  <class 'numpy.int64'>\n",
      "vect__encoding  :  utf-8\n",
      "vect__input  :  content\n",
      "vect__lowercase  :  True\n",
      "vect__max_df  :  1.0\n",
      "vect__max_features  :  None\n",
      "vect__min_df  :  1\n",
      "vect__ngram_range  :  (1, 1)\n",
      "vect__preprocessor  :  None\n",
      "vect__stop_words  :  None\n",
      "vect__strip_accents  :  None\n",
      "vect__token_pattern  :  (?u)\\b\\w\\w+\\b\n",
      "vect__tokenizer  :  <function tokenize at 0x7f148504f488>\n",
      "vect__vocabulary  :  None\n",
      "tfidf__norm  :  l2\n",
      "tfidf__smooth_idf  :  True\n",
      "tfidf__sublinear_tf  :  False\n",
      "tfidf__use_idf  :  True\n",
      "clf__estimator__estimator__C  :  1.0\n",
      "clf__estimator__estimator__class_weight  :  None\n",
      "clf__estimator__estimator__dual  :  True\n",
      "clf__estimator__estimator__fit_intercept  :  True\n",
      "clf__estimator__estimator__intercept_scaling  :  1\n",
      "clf__estimator__estimator__loss  :  squared_hinge\n",
      "clf__estimator__estimator__max_iter  :  1000\n",
      "clf__estimator__estimator__multi_class  :  ovr\n",
      "clf__estimator__estimator__penalty  :  l2\n",
      "clf__estimator__estimator__random_state  :  None\n",
      "clf__estimator__estimator__tol  :  0.0001\n",
      "clf__estimator__estimator__verbose  :  0\n",
      "clf__estimator__estimator  :  LinearSVC(C=1.0, class_weight=None, dual=True, fit_intercept=True,\n",
      "     intercept_scaling=1, loss='squared_hinge', max_iter=1000,\n",
      "     multi_class='ovr', penalty='l2', random_state=None, tol=0.0001,\n",
      "     verbose=0)\n",
      "clf__estimator__n_jobs  :  1\n",
      "clf__estimator  :  OneVsRestClassifier(estimator=LinearSVC(C=1.0, class_weight=None, dual=True, fit_intercept=True,\n",
      "     intercept_scaling=1, loss='squared_hinge', max_iter=1000,\n",
      "     multi_class='ovr', penalty='l2', random_state=None, tol=0.0001,\n",
      "     verbose=0),\n",
      "          n_jobs=1)\n",
      "clf__n_jobs  :  1\n"
     ]
    }
   ],
   "source": [
    "parameters = pipeline_svc.get_params()\n",
    "\n",
    "for item in parameters:\n",
    "    print(\"{}  :  {}\".format(item, parameters[item]))\n",
    "\n",
    "parameters = {\n",
    "              'vect__max_df': (0.75, 1.0),\n",
    "              #'vect__min_df': (0.5, 0.75, 1.0),\n",
    "              'tfidf__smooth_idf': (True),\n",
    "              'clf__estimator__estimator__max_iter': (500, 750, 1000)\n",
    "             }\n",
    "\n",
    "cv_model_svc = GridSearchCV(estimator = pipeline_svc,\n",
    "                            param_grid = parameters,\n",
    "                            verbose = 3,\n",
    "                            cv = 3)"
   ]
  },
  {
   "cell_type": "code",
   "execution_count": 25,
   "metadata": {},
   "outputs": [
    {
     "name": "stdout",
     "output_type": "stream",
     "text": [
      "Fitting 3 folds for each of 6 candidates, totalling 18 fits\n",
      "[CV] clf__estimator__estimator__max_iter=500, vect__max_df=0.75 ......\n",
      "[CV]  clf__estimator__estimator__max_iter=500, vect__max_df=0.75, score=0.28076206847156565, total= 1.5min\n",
      "[CV] clf__estimator__estimator__max_iter=500, vect__max_df=0.75 ......\n"
     ]
    },
    {
     "name": "stderr",
     "output_type": "stream",
     "text": [
      "[Parallel(n_jobs=1)]: Done   1 out of   1 | elapsed:  2.5min remaining:    0.0s\n"
     ]
    },
    {
     "name": "stdout",
     "output_type": "stream",
     "text": [
      "[CV]  clf__estimator__estimator__max_iter=500, vect__max_df=0.75, score=0.2819484240687679, total= 1.5min\n",
      "[CV] clf__estimator__estimator__max_iter=500, vect__max_df=0.75 ......\n"
     ]
    },
    {
     "name": "stderr",
     "output_type": "stream",
     "text": [
      "[Parallel(n_jobs=1)]: Done   2 out of   2 | elapsed:  5.1min remaining:    0.0s\n"
     ]
    },
    {
     "name": "stdout",
     "output_type": "stream",
     "text": [
      "[CV]  clf__estimator__estimator__max_iter=500, vect__max_df=0.75, score=0.2836676217765043, total= 1.5min\n",
      "[CV] clf__estimator__estimator__max_iter=500, vect__max_df=1.0 .......\n",
      "[CV]  clf__estimator__estimator__max_iter=500, vect__max_df=1.0, score=0.28076206847156565, total= 1.5min\n",
      "[CV] clf__estimator__estimator__max_iter=500, vect__max_df=1.0 .......\n",
      "[CV]  clf__estimator__estimator__max_iter=500, vect__max_df=1.0, score=0.2819484240687679, total= 1.5min\n",
      "[CV] clf__estimator__estimator__max_iter=500, vect__max_df=1.0 .......\n",
      "[CV]  clf__estimator__estimator__max_iter=500, vect__max_df=1.0, score=0.2836676217765043, total= 1.5min\n",
      "[CV] clf__estimator__estimator__max_iter=750, vect__max_df=0.75 ......\n",
      "[CV]  clf__estimator__estimator__max_iter=750, vect__max_df=0.75, score=0.28076206847156565, total= 1.5min\n",
      "[CV] clf__estimator__estimator__max_iter=750, vect__max_df=0.75 ......\n",
      "[CV]  clf__estimator__estimator__max_iter=750, vect__max_df=0.75, score=0.2819484240687679, total= 1.5min\n",
      "[CV] clf__estimator__estimator__max_iter=750, vect__max_df=0.75 ......\n",
      "[CV]  clf__estimator__estimator__max_iter=750, vect__max_df=0.75, score=0.2836676217765043, total= 1.5min\n",
      "[CV] clf__estimator__estimator__max_iter=750, vect__max_df=1.0 .......\n",
      "[CV]  clf__estimator__estimator__max_iter=750, vect__max_df=1.0, score=0.28076206847156565, total= 1.5min\n",
      "[CV] clf__estimator__estimator__max_iter=750, vect__max_df=1.0 .......\n",
      "[CV]  clf__estimator__estimator__max_iter=750, vect__max_df=1.0, score=0.2819484240687679, total= 1.5min\n",
      "[CV] clf__estimator__estimator__max_iter=750, vect__max_df=1.0 .......\n",
      "[CV]  clf__estimator__estimator__max_iter=750, vect__max_df=1.0, score=0.2836676217765043, total= 1.5min\n",
      "[CV] clf__estimator__estimator__max_iter=1000, vect__max_df=0.75 .....\n",
      "[CV]  clf__estimator__estimator__max_iter=1000, vect__max_df=0.75, score=0.28076206847156565, total= 1.5min\n",
      "[CV] clf__estimator__estimator__max_iter=1000, vect__max_df=0.75 .....\n",
      "[CV]  clf__estimator__estimator__max_iter=1000, vect__max_df=0.75, score=0.2819484240687679, total= 1.5min\n",
      "[CV] clf__estimator__estimator__max_iter=1000, vect__max_df=0.75 .....\n",
      "[CV]  clf__estimator__estimator__max_iter=1000, vect__max_df=0.75, score=0.2836676217765043, total= 1.6min\n",
      "[CV] clf__estimator__estimator__max_iter=1000, vect__max_df=1.0 ......\n",
      "[CV]  clf__estimator__estimator__max_iter=1000, vect__max_df=1.0, score=0.28076206847156565, total= 1.5min\n",
      "[CV] clf__estimator__estimator__max_iter=1000, vect__max_df=1.0 ......\n",
      "[CV]  clf__estimator__estimator__max_iter=1000, vect__max_df=1.0, score=0.2819484240687679, total= 1.5min\n",
      "[CV] clf__estimator__estimator__max_iter=1000, vect__max_df=1.0 ......\n",
      "[CV]  clf__estimator__estimator__max_iter=1000, vect__max_df=1.0, score=0.2836676217765043, total= 1.5min\n"
     ]
    },
    {
     "name": "stderr",
     "output_type": "stream",
     "text": [
      "[Parallel(n_jobs=1)]: Done  18 out of  18 | elapsed: 45.9min finished\n"
     ]
    },
    {
     "name": "stdout",
     "output_type": "stream",
     "text": [
      "                        precision    recall  f1-score   support\n",
      "\n",
      "               related       0.86      0.90      0.88      4006\n",
      "               request       0.76      0.59      0.66       900\n",
      "                 offer       0.00      0.00      0.00        23\n",
      "           aid_related       0.73      0.68      0.71      2170\n",
      "          medical_help       0.62      0.30      0.40       433\n",
      "      medical_products       0.68      0.34      0.45       277\n",
      "     search_and_rescue       0.48      0.11      0.18       139\n",
      "              security       0.40      0.02      0.04       106\n",
      "              military       0.68      0.28      0.40       171\n",
      "           child_alone       0.00      0.00      0.00         0\n",
      "                 water       0.77      0.61      0.68       346\n",
      "                  food       0.81      0.65      0.72       603\n",
      "               shelter       0.78      0.57      0.66       443\n",
      "              clothing       0.81      0.35      0.49        99\n",
      "                 money       0.51      0.24      0.33       103\n",
      "        missing_people       0.56      0.08      0.14        62\n",
      "              refugees       0.55      0.19      0.28       150\n",
      "                 death       0.69      0.47      0.56       263\n",
      "             other_aid       0.47      0.20      0.28       696\n",
      "infrastructure_related       0.35      0.08      0.14       342\n",
      "             transport       0.66      0.20      0.30       245\n",
      "             buildings       0.65      0.34      0.45       257\n",
      "           electricity       0.59      0.28      0.38       118\n",
      "                 tools       0.00      0.00      0.00        27\n",
      "             hospitals       0.29      0.03      0.06        60\n",
      "                 shops       0.00      0.00      0.00        26\n",
      "           aid_centers       0.17      0.02      0.03        62\n",
      "  other_infrastructure       0.31      0.04      0.08       226\n",
      "       weather_related       0.82      0.72      0.76      1465\n",
      "                floods       0.86      0.56      0.68       459\n",
      "                 storm       0.74      0.59      0.65       476\n",
      "                  fire       0.76      0.24      0.36        55\n",
      "            earthquake       0.88      0.78      0.83       493\n",
      "                  cold       0.71      0.33      0.45       103\n",
      "         other_weather       0.55      0.19      0.28       275\n",
      "         direct_report       0.67      0.49      0.57      1045\n",
      "\n",
      "           avg / total       0.73      0.59      0.64     16724\n",
      "\n",
      "Accuracy: 0.9485665478312537\n"
     ]
    }
   ],
   "source": [
    "cv_model_svc.fit(X_train, Y_train)\n",
    "\n",
    "y_pred = cv_model_svc.predict(X_test)\n",
    "\n",
    "print(classification_report(Y_test.values, y_pred, target_names=category_names))\n",
    "\n",
    "print('Accuracy: {}'.format(np.mean(Y_test.values == y_pred)))"
   ]
  },
  {
   "cell_type": "code",
   "execution_count": 26,
   "metadata": {},
   "outputs": [
    {
     "name": "stdout",
     "output_type": "stream",
     "text": [
      "{'clf__estimator__estimator__max_iter': 500, 'vect__max_df': 0.75}\n"
     ]
    }
   ],
   "source": [
    "print(cv_model_svc.best_params_)"
   ]
  },
  {
   "cell_type": "markdown",
   "metadata": {},
   "source": [
    "### 9. Export your model as a pickle file"
   ]
  },
  {
   "cell_type": "code",
   "execution_count": 27,
   "metadata": {},
   "outputs": [],
   "source": [
    "\n",
    "# save model to pickle file\n",
    "pickle.dump(pipeline, open('../pipeline_model_rfc', 'wb'))\n",
    "pickle.dump(cv_model, open('../cv_pipeline_model_rfc', 'wb'))\n",
    "pickle.dump(pipeline_svc, open('../pipeline_model_svc', 'wb'))\n",
    "pickle.dump(cv_model_svc, open('../cv_pipeline_model_svc', 'wb'))"
   ]
  },
  {
   "cell_type": "markdown",
   "metadata": {},
   "source": [
    "### 10. Use this notebook to complete `train.py`\n",
    "Use the template file attached in the Resources folder to write a script that runs the steps above to create a database and export a model based on a new dataset specified by the user."
   ]
  },
  {
   "cell_type": "code",
   "execution_count": null,
   "metadata": {},
   "outputs": [],
   "source": [
    "import sys\n",
    "import pandas as pd\n",
    "import numpy as np\n",
    "import pickle\n",
    "import re\n",
    "import time\n",
    "import warnings\n",
    "\n",
    "from sqlalchemy import create_engine\n",
    "\n",
    "from sklearn.pipeline import Pipeline\n",
    "from sklearn.metrics import confusion_matrix\n",
    "from sklearn.metrics import classification_report\n",
    "from sklearn.model_selection import train_test_split, GridSearchCV\n",
    "\n",
    "from sklearn.ensemble import RandomForestClassifier\n",
    "from sklearn.multiclass import OneVsRestClassifier\n",
    "from sklearn.multioutput import MultiOutputClassifier\n",
    "from sklearn.svm import LinearSVC\n",
    "\n",
    "from sklearn.feature_extraction.text import CountVectorizer, TfidfTransformer\n",
    "\n",
    "import nltk\n",
    "from nltk.corpus import stopwords\n",
    "from nltk.stem import WordNetLemmatizer\n",
    "from nltk.tokenize import word_tokenize\n",
    "\n",
    "nltk.download(['punkt', 'wordnet', 'stopwords'])\n",
    "warnings.filterwarnings('ignore')\n",
    "\n",
    "def load_data(database_filepath):\n",
    "    '''\n",
    "    Load data from SQL Database\n",
    "    \n",
    "    Arguments:\n",
    "        - database_filepath: SQL database file\n",
    "    \n",
    "    Returns:\n",
    "        - X pandas dataframe: Features\n",
    "        - Y pandas dataframe: Targets\n",
    "        - category_names list: category labels \n",
    "    '''\n",
    "    \n",
    "    # connect to database\n",
    "    engine = create_engine('sqlite:///' + database_filepath)\n",
    "    \n",
    "    # read table into df dataframe\n",
    "    query = \"SELECT * FROM InsertTableName;\"\n",
    "    df = pd.read_sql(query, con=engine)\n",
    "    \n",
    "    # split dataframe into X and Y\n",
    "    X = df['message']\n",
    "    Y = df.iloc[:,4:]\n",
    "    \n",
    "    # get category column names\n",
    "    cat_names = Y.columns\n",
    "    \n",
    "    # cleaning values of 'related' category column mapping values:\n",
    "    #     0 to 0  no change\n",
    "    #     1 to 1  no change\n",
    "    #     2 to 1  remapping\n",
    "    Y['related']=Y['related'].map(lambda x: 1 if x == 2 else x)\n",
    "    \n",
    "    return X, Y, cat_names\n",
    "\n",
    "def tokenize(text):\n",
    "    '''\n",
    "    Tokenize text data\n",
    "    \n",
    "    Arguments:\n",
    "        - text str: Messages as text data\n",
    "    \n",
    "    Returns:\n",
    "        - words list: Processed text after normalizing, \n",
    "                                           tokenizing,\n",
    "                                           removing stopwords,\n",
    "                                           lemmatizing: words & verbs\n",
    "    '''\n",
    "    # convert all text to lower case & removing punctuation\n",
    "    text = re.sub(r\"[^a-zA-Z0-9]\", \" \", text.lower())\n",
    "    \n",
    "    # tokenize words\n",
    "    words = word_tokenize(text)\n",
    "    \n",
    "    # remove stop words\n",
    "    words = [w for w in words if w not in stopwords.words(\"english\")]\n",
    "    \n",
    "    # Lemmatization 1: Reduce words to their root form\n",
    "    lemmed = [WordNetLemmatizer().lemmatize(w.strip()) for w in words]\n",
    "    \n",
    "    # Lemmatization 2: Reduce verbs to their root form\n",
    "    lemmed = [WordNetLemmatizer().lemmatize(w.strip(), pos='v') for w in lemmed]\n",
    "    \n",
    "    return lemmed\n",
    "\n",
    "\n",
    "def build_model():\n",
    "    '''\n",
    "    Build Model with Grid Search\n",
    "    \n",
    "    Returns:\n",
    "        - Tuned Model after grid search\n",
    "    '''\n",
    "\n",
    "    pipeline = Pipeline([\n",
    "                        ('vect', CountVectorizer(tokenizer=tokenize)),\n",
    "                        ('tfidf', TfidfTransformer()),\n",
    "                        ('clf', RandomForestClassifier())\n",
    "                        ])\n",
    "    \n",
    "    # hyper-parameter grid\n",
    "    parameters = {'vect__ngram_range': ((1, 1), (1, 2)),\n",
    "                  'vect__max_df': (0.75, 1.0)\n",
    "                  }\n",
    "\n",
    "    # create model\n",
    "    cv_model = GridSearchCV(estimator=pipeline,\n",
    "                            param_grid=parameters,\n",
    "                            verbose=3,\n",
    "                            cv=3)\n",
    "    \n",
    "    return cv_model\n",
    "\n",
    "def evaluate_model(model, X_test, Y_test, category_names):\n",
    "    '''\n",
    "    Model performance evaluation on test data\n",
    "    \n",
    "    Arguments:\n",
    "        - model: trained model\n",
    "        - X_test: Test features\n",
    "        - Y_test: Test targets\n",
    "        - category_names: Target labels\n",
    "    '''\n",
    "\n",
    "    # predict\n",
    "    y_pred = model.predict(X_test)\n",
    "\n",
    "    # print classification report\n",
    "    print(classification_report(Y_test.values, y_pred, target_names=category_names))\n",
    "\n",
    "    # print accuracy score\n",
    "    print('Accuracy: {}'.format(np.mean(Y_test.values == y_pred)))\n",
    "\n",
    "\n",
    "def save_model(model, model_filepath):\n",
    "    '''\n",
    "    Save model to a Python pickle file    \n",
    "    Arguments:\n",
    "        - model: Trained model\n",
    "        - model_filepath: Filepath to save the model\n",
    "    \n",
    "    Output:\n",
    "        - file as specified in model_filepath for model\n",
    "    '''\n",
    "\n",
    "    # save model to pickle file\n",
    "    pickle.dump(model, open(model_filepath, 'wb'))\n",
    "\n",
    "\n",
    "def main():\n",
    "    if len(sys.argv) == 3:\n",
    "        database_filepath, model_filepath = sys.argv[1:]\n",
    "        print('Loading data...\\n    DATABASE: {}'.format(database_filepath))\n",
    "        X, Y, category_names = load_data(database_filepath)\n",
    "        X_train, X_test, Y_train, Y_test = train_test_split(X, Y, test_size=0.2)\n",
    "        \n",
    "        print('Building model...')\n",
    "        model = build_model()\n",
    "        \n",
    "        print('Training model...')\n",
    "        model.fit(X_train, Y_train)\n",
    "        \n",
    "        print('Evaluating model...')\n",
    "        evaluate_model(model, X_test, Y_test, category_names)\n",
    "\n",
    "        print('Saving model...\\n    MODEL: {}'.format(model_filepath))\n",
    "        save_model(model, model_filepath)\n",
    "\n",
    "        print('Trained model saved!')\n",
    "\n",
    "    else:\n",
    "        print('Please provide the filepath of the disaster messages database '\\\n",
    "              'as the first argument and the filepath of the pickle file to '\\\n",
    "              'save the model to as the second argument. \\n\\nExample: python '\\\n",
    "              'train_classifier.py ../data/DisasterResponse.db classifier.pkl')\n",
    "\n",
    "\n",
    "if __name__ == '__main__':\n",
    "    main()"
   ]
  }
 ],
 "metadata": {
  "kernelspec": {
   "display_name": "Python 3",
   "language": "python",
   "name": "python3"
  },
  "language_info": {
   "codemirror_mode": {
    "name": "ipython",
    "version": 3
   },
   "file_extension": ".py",
   "mimetype": "text/x-python",
   "name": "python",
   "nbconvert_exporter": "python",
   "pygments_lexer": "ipython3",
   "version": "3.7.6"
  }
 },
 "nbformat": 4,
 "nbformat_minor": 2
}
